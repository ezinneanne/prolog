{
 "cells": [
  {
   "cell_type": "code",
   "execution_count": null,
   "id": "0519b7cc-42ec-4c42-9cbb-ebd994ff439e",
   "metadata": {},
   "outputs": [],
   "source": []
  }
 ],
 "metadata": {
  "kernelspec": {
   "display_name": "",
   "name": ""
  },
  "language_info": {
   "name": ""
  }
 },
 "nbformat": 4,
 "nbformat_minor": 5
}
